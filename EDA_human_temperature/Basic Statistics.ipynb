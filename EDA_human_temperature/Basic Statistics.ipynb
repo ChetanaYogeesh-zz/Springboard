{
 "cells": [
  {
   "cell_type": "code",
   "execution_count": 1,
   "metadata": {
    "collapsed": true
   },
   "outputs": [],
   "source": [
    "import pandas as pd\n",
    "import matplotlib.pyplot as plt\n",
    "import numpy as np\n",
    "%matplotlib inline\n",
    "import seaborn as sns\n",
    "sns.set()\n",
    "sns.set_style('whitegrid')\n",
    "import scipy.stats as st\n",
    "\n",
    "df = pd.read_csv('data/human_body_temperature.csv')\n"
   ]
  },
  {
   "cell_type": "markdown",
   "metadata": {},
   "source": [
    "## Population Statistics"
   ]
  },
  {
   "cell_type": "code",
   "execution_count": 37,
   "metadata": {},
   "outputs": [],
   "source": [
    "populationMu=98.6 # Population Mean\n",
    "populationSigma = 'N/A' #Population Standard Deviation\n",
    "populationProportion = 'N/A'"
   ]
  },
  {
   "cell_type": "markdown",
   "metadata": {},
   "source": [
    "## Sample Statistics"
   ]
  },
  {
   "cell_type": "code",
   "execution_count": 39,
   "metadata": {},
   "outputs": [
    {
     "name": "stdout",
     "output_type": "stream",
     "text": [
      "Population mean: 98.6\n",
      "Population standard deviation: N/A\n",
      "Sample size:  130.0\n",
      "Sample mean: 98.2492307692\n",
      "Sample standard deviation: 0.733183158039\n",
      "Standard Error: 0.0643044168379\n",
      "Sample Degrees of Freedom: 129.0\n"
     ]
    }
   ],
   "source": [
    "sampleStats = df.temperature.describe()\n",
    "#Point Estimate\n",
    "sampleN = sampleStats[0]\n",
    "sampleMean = sampleStats[1] # Sample Mean xbar\n",
    "sampleSigma = sampleStats[2] # Sample Standard Deviation\n",
    "sqRootN = np.sqrt(sampleN)\n",
    "#If population variance is available, use population standard deviation to calculate standard error, \n",
    "#else use sample standard deviation \n",
    "\n",
    "sampleDegOfFreedom = sampleN - 1\n",
    "\n",
    "if populationSigma != 'N/A':\n",
    "    stdError  = populationSigma /sqRootN\n",
    "else:\n",
    "    stdError  = sampleSigma /sqRootN\n",
    "    \n",
    "sampleProportion = 'N/A'\n",
    "    \n",
    "print(\"Population mean:\", populationMu)\n",
    "print(\"Population standard deviation:\", populationSigma)\n",
    "print(\"Sample size: \", sampleN)\n",
    "print(\"Sample mean:\", sampleMean)\n",
    "print(\"Sample standard deviation:\", sampleSigma)\n",
    "print(\"Standard Error:\", stdError)   \n",
    "print(\"Sample Degrees of Freedom:\", sampleDegOfFreedom)   "
   ]
  },
  {
   "cell_type": "code",
   "execution_count": 106,
   "metadata": {},
   "outputs": [
    {
     "name": "stdout",
     "output_type": "stream",
     "text": [
      "5th percentile: 97.045\n",
      "95th percentile: 99.300 \n",
      "median: 98.300 \n",
      "mean: 98.249\n"
     ]
    },
    {
     "data": {
      "text/plain": [
       "Text(99.3,0.194844,'95th percentile')"
      ]
     },
     "execution_count": 106,
     "metadata": {},
     "output_type": "execute_result"
    },
    {
     "data": {
      "image/png": "[encoded data removed]",
      "text/plain": [
       "<matplotlib.figure.Figure at 0x1a1b845f28>"
      ]
     },
     "metadata": {},
     "output_type": "display_data"
    }
   ],
   "source": [
    "import numpy as np\n",
    "import scipy\n",
    "import pandas as pd\n",
    "from scipy.stats import norm\n",
    "import matplotlib.pyplot as plt\n",
    "from matplotlib.mlab import normpdf\n",
    "\n",
    "# dummy data\n",
    "mu = sampleMean\n",
    "sigma = sampleSigma\n",
    "n_bins = 50\n",
    "s=df.temperature\n",
    "fig, axes = plt.subplots(nrows=2, ncols=1, sharex=True)\n",
    "n, bins, patches = axes[0].hist(s, n_bins, normed=True, alpha=.1, edgecolor='black', color='blue' )\n",
    "\n",
    "#histogram\n",
    "n, bins, patches = axes[1].hist(s, n_bins, normed=True, alpha=.1, edgecolor='black' )\n",
    "pdf = 1/(sigma*np.sqrt(2*np.pi))*np.exp(-(bins-mu)**2/(2*sigma**2))\n",
    "\n",
    "median, q1, q3 = np.percentile(s, 50), np.percentile(s, 5), np.percentile(s, 95)\n",
    "print(\"5th percentile: {:.3f}\\n95th percentile: {:.3f} \\nmedian: {:.3f} \\nmean: {:.3f}\".format(q1,q3,median,mu))\n",
    "\n",
    "#probability density function\n",
    "axes[1].plot(bins, pdf, color='orange', alpha=.6)\n",
    "\n",
    "#to ensure pdf and bins line up to use fill_between.\n",
    "bins_1 = bins[(bins >= q1-1.5*(q3-q1)) & (bins <= q1)] # to ensure fill starts from Q1-1.5*IQR\n",
    "bins_2 = bins[(bins <= q3+1.5*(q3-q1)) & (bins >= q3)]\n",
    "pdf_1 = pdf[:int(len(pdf)/2)]\n",
    "pdf_2 = pdf[int(len(pdf)/2):]\n",
    "pdf_1 = pdf_1[(pdf_1 >= norm(mu,sigma).pdf(q1-1.5*(q3-q1))) & (pdf_1 <= norm(mu,sigma).pdf(q1))]\n",
    "pdf_2 = pdf_2[(pdf_2 >= norm(mu,sigma).pdf(q3+1.5*(q3-q1))) & (pdf_2 <= norm(mu,sigma).pdf(q3))]\n",
    "\n",
    "#fill from Q1-1.5*IQR to Q1 and Q3 to Q3+1.5*IQR\n",
    "axes[1].fill_between(bins_1, pdf_1, 0, alpha=.6, color='orange')\n",
    "axes[1].fill_between(bins_2, pdf_2, 0, alpha=.6, color='orange')\n",
    "\n",
    "#add text to bottom graph.\n",
    "#axes[1].annotate(\"{:.1f}%\".format(100*norm(mu, sigma).cdf(q1)), xy=((q1-1.5*(q3-q1)+q1)/2, 0), ha='center')\n",
    "#axes[1].annotate(\"{:.1f}%\".format(100*(norm(mu, sigma).cdf(q3)-norm(mu, sigma).cdf(q1))), xy=(median, 0), ha='center')\n",
    "#axes[1].annotate(\"{:.1f}%\".format(100*(norm(mu, sigma).cdf(q3+1.5*(q3-q1)-q3)-norm(mu, sigma).cdf(q3))), xy=((q3+1.5*(q3-q1)+q3)/2, 0), ha='center')\n",
    "axes[1].annotate('5th percentile', xy=(q1, norm(mu, sigma).pdf(q1)), ha='center')\n",
    "axes[1].annotate('95th percentile', xy=(q3, norm(mu, sigma).pdf(q3)), ha='center')\n"
   ]
  },
  {
   "cell_type": "markdown",
   "metadata": {},
   "source": [
    "## Z-critical  and Margin of Error"
   ]
  },
  {
   "cell_type": "markdown",
   "metadata": {},
   "source": [
    "The z-critical value is the number of standard deviations you'd have to go from the mean of the normal distribution to capture the proportion of the data associated with the desired confidence level. For instance, we know that roughly 95% of the data in a normal distribution lies within 2 standard deviations of the mean, so we could use 2 as the z-critical value for a 95% confidence interval"
   ]
  },
  {
   "cell_type": "code",
   "execution_count": 125,
   "metadata": {},
   "outputs": [
    {
     "name": "stdout",
     "output_type": "stream",
     "text": [
      "z-critical value: 1.95996398454\n",
      "Confidence interval: (98.123196428181657, 98.375265110279898)\n",
      "Prediction interval: (98.473965658950874, 98.726034341049115)\n",
      "The Significance value of z_critical <= 1.96 : 0.05\n",
      "The  zscore <= -5.45\n",
      "The probability of the Z-score <= 1.96 : 4.9e-08\n",
      "We are 95% confident that the population mean is between 98.123 - 98.375\n"
     ]
    }
   ],
   "source": [
    "#We use stats.norm.ppf(q = 0.975) to get the desired z-critical value instead of q = 0.95 because the distribution has two tails.\n",
    "z_critical = st.norm.ppf(q = 0.975)\n",
    "print(\"z-critical value:\",z_critical)# Check the z-critical value\n",
    "\n",
    "margin_of_error = z_critical * stdError\n",
    "\n",
    "confidence_interval = (sampleMean - margin_of_error,\n",
    "                       sampleMean + margin_of_error)  \n",
    "\n",
    "print(\"Confidence interval:\",confidence_interval)\n",
    "\n",
    "prediction_interval = (populationMu - margin_of_error,\n",
    "                       populationMu + margin_of_error)  \n",
    "\n",
    "print(\"Prediction interval:\",prediction_interval)\n",
    "\n",
    "significanceValue =  2*(1 - st.norm.cdf(abs(z_critical)))\n",
    "print((\"The Significance value of z_critical <= {:.3} : {:.3}\").format(z_critical,significanceValue))\n",
    "\n",
    "\n",
    "zscore = (sampleMean-populationMu) / stdError\n",
    "print((\"The  zscore <= {:.3}\").format(zscore))\n",
    "\n",
    "pvalues =  2*(1 - st.norm.cdf(abs(zscore)))\n",
    "print((\"The probability of the Z-score <= {:.3} : {:.3}\").format(z_critical,pvalues))\n",
    "print((\"We are 95% confident that the population mean is between {:.3f} - {:.3f}\").format(confidence_interval[0],confidence_interval[1]))"
   ]
  },
  {
   "cell_type": "markdown",
   "metadata": {},
   "source": [
    "## t-critical  and Margin of Error"
   ]
  },
  {
   "cell_type": "markdown",
   "metadata": {},
   "source": [
    "Notice that the t-critical value is larger than the z-critical value we used for 95% confidence interval. This allows the confidence interval to cast a larger net to make up for the variability caused by using the sample standard deviation in place of the population standard deviation. The end result is a much wider confidence interval (an interval with a larger margin of error.)."
   ]
  },
  {
   "cell_type": "code",
   "execution_count": 132,
   "metadata": {},
   "outputs": [
    {
     "name": "stdout",
     "output_type": "stream",
     "text": [
      "Confidence: 95%\n",
      "t-critical value: 1.97852449146\n",
      "t-critical value using significance value: 1.97852449146\n",
      "Confidence interval: (98.122002905608042, 98.376458632853513)\n",
      "Prediction interval: (96.793041311796571, 99.705420226664984)\n",
      "The probability of the t_critical <= 1.98 : 1.949999999997644\n",
      "The Significance value of t_critical <= 1.98 : 0.0479\n",
      "The  t-score <= -5.45\n",
      "The probability of the t-score -5.45 : 2.41e-07\n",
      "Sample does not indicate that the true population's mean could be 98.6 (reject H0)\n",
      "We are 95% confident that the population mean is between 98.122 - 98.376\n"
     ]
    }
   ],
   "source": [
    "# Get the t-critical value\n",
    "t_critical = st.t.ppf(q = 0.975, df=sampleDegOfFreedom)  \n",
    "print(\"Confidence:\",'95%')\n",
    "print(\"t-critical value:\",t_critical)\n",
    "\n",
    "alpha = 0.05\n",
    "# calculate the critical value\n",
    "t_critical_2 = st.t.ppf(1.0 - (alpha/2), sampleDegOfFreedom)\n",
    "print(\"t-critical value using significance value:\",t_critical_2)\n",
    "\n",
    "margin_of_error = t_critical * stdError\n",
    "\n",
    "confidence_interval = (sampleMean - margin_of_error,\n",
    "                       sampleMean + margin_of_error)\n",
    "\n",
    "pi_width = t_critical * sampleSigma * np.sqrt((1 + 1/sampleN))\n",
    "\n",
    "\n",
    "#pi_width = t_critical * margin_of_error * np.sqrt((1 + 1/sampleN))\n",
    "\n",
    "prediction_interval = (sampleMean - pi_width,\n",
    "                       sampleMean + pi_width)  \n",
    "\n",
    "print(\"Confidence interval:\",confidence_interval)\n",
    "print(\"Prediction interval:\",prediction_interval)\n",
    "\n",
    "#The spread of the sampling distribution, which we measure using the standard error.If sigma is unknown which is often the case,\n",
    "#where sigma is the population standard deviation and oftentimes,we don't have access to the entire population to calculate this number,\n",
    "#we use S, the standard sample deviation to estimate the standard error.\n",
    "\n",
    "# Here standard sample deviation is used instead of population std\n",
    "#Degrees of freedom = n-1\n",
    "pvalues = st.t.cdf(x= t_critical,      # T-test statistic\n",
    "               df= 129) * 2   # Mupltiply by two for two tailed test*\n",
    "print((\"The probability of the t_critical <= {:.3} : {:}\").format(t_critical,pvalues))\n",
    "\n",
    "significanceValue =  2*(1 - st.norm.cdf(abs(t_critical)))\n",
    "print((\"The Significance value of t_critical <= {:.3} : {:.3}\").format(t_critical,significanceValue))\n",
    "\n",
    "\n",
    "tscore = (sampleMean-populationMu) / stdError\n",
    "print((\"The  t-score <= {:.3}\").format(tscore))\n",
    "\n",
    "pvalues = st.t.cdf(x= tscore,      # T-test statistic\n",
    "               df= 129) * 2\n",
    "print((\"The probability of the t-score {:.3} : {:.3}\").format(tscore,pvalues))\n",
    "\n",
    "if pvalues > alpha/2:\n",
    "    print(\"Sample indicates that the true population's mean could be 98.6 (fail to reject H0)\")\n",
    "else:\n",
    "    print(\"Sample does not indicate that the true population's mean could be 98.6 (reject H0)\")\n",
    "\n",
    "print((\"We are 95% confident that the population mean is between {:.3f} - {:.3f}\").format(confidence_interval[0],confidence_interval[1]))"
   ]
  },
  {
   "cell_type": "markdown",
   "metadata": {},
   "source": [
    "EXTRA FOR LEARNING : What is the probability that a randomly selected adult has a body temperature less than or equal to 98.6 F. ?"
   ]
  },
  {
   "cell_type": "code",
   "execution_count": 128,
   "metadata": {},
   "outputs": [
    {
     "name": "stdout",
     "output_type": "stream",
     "text": [
      "Population mean: 98.6\n",
      "Sample size:  130\n",
      "Sample mean: 98.24923076923078\n",
      "Sample SD: 0.7303577789050377\n",
      "The Z-score is 0.48 \n",
      "The probability of the Z-score > 0.48 : 31.552%\n",
      "The probability of the Z-score < 0.48 : 68.448%\n"
     ]
    }
   ],
   "source": [
    "print(\"Population mean:\", 98.6)\n",
    "print(\"Sample size: \", len(df['temperature']))\n",
    "print(\"Sample mean:\", np.mean(df['temperature']))\n",
    "print(\"Sample SD:\", np.std(df['temperature']))    \n",
    "\n",
    "zscore = (98.6 - np.mean(df['temperature'])) / np.std(df['temperature'])\n",
    "print((\"The Z-score is {:.3} \").format(zscore))\n",
    "\n",
    "#Due to a property of the normal distribution, this area is equal to the area below a z-score\n",
    "\n",
    "#Compute this area\n",
    "pvaluesAboveZScore = st.norm.sf(abs(zscore))\n",
    "print((\"The probability of the Z-score > {:.3} : {:.3%}\").format(zscore,pvaluesAboveZScore))\n",
    "\n",
    "pvaluesBelowZScore = 1-pvaluesAboveZScore\n",
    "print((\"The probability of the Z-score < {:.3} : {:.3%}\").format(zscore,pvaluesBelowZScore))\n",
    "\n"
   ]
  },
  {
   "cell_type": "markdown",
   "metadata": {},
   "source": [
    "EXTRA FOR LEARNING : What is the probability that a randomly selected adult has a body temperature greater than 99.2 F.?"
   ]
  },
  {
   "cell_type": "code",
   "execution_count": 129,
   "metadata": {},
   "outputs": [
    {
     "name": "stdout",
     "output_type": "stream",
     "text": [
      "Population mean: 98.6\n",
      "Sample size:  130\n",
      "Sample mean: 98.24923076923078\n",
      "Sample SD: 0.7303577789050377\n",
      "The Z-score is 1.3 \n",
      "The probability of the Z-score > 1.3 : 9.649%\n",
      "The probability of the Z-score < 1.3 : 90.351%\n"
     ]
    }
   ],
   "source": [
    "print(\"Population mean:\", 98.6)\n",
    "print(\"Sample size: \", len(df['temperature']))\n",
    "print(\"Sample mean:\", np.mean(df['temperature']))\n",
    "print(\"Sample SD:\", np.std(df['temperature']))    \n",
    "\n",
    "zscore = (99.2 - np.mean(df['temperature'])) / np.std(df['temperature'])\n",
    "print((\"The Z-score is {:.3} \").format(zscore))\n",
    "\n",
    "#Due to a property of the normal distribution, this area is equal to the area below a z-score\n",
    "\n",
    "#Compute this area\n",
    "pvaluesAboveZScore = st.norm.sf(abs(zscore))\n",
    "print((\"The probability of the Z-score > {:.3} : {:.3%}\").format(zscore,pvaluesAboveZScore))\n",
    "\n",
    "pvaluesBelowZScore = 1-pvaluesAboveZScore\n",
    "print((\"The probability of the Z-score < {:.3} : {:.3%}\").format(zscore,pvaluesBelowZScore))\n",
    "\n"
   ]
  },
  {
   "cell_type": "markdown",
   "metadata": {},
   "source": [
    "EXTRA FOR LEARNING : What is the probability that a randomly selected adult has a body temperature between 97 and 98 degrees Farenheit?"
   ]
  },
  {
   "cell_type": "code",
   "execution_count": 131,
   "metadata": {},
   "outputs": [
    {
     "name": "stdout",
     "output_type": "stream",
     "text": [
      "Population mean: 98.6\n",
      "Sample size:  130\n",
      "Sample mean: 98.24923076923078\n",
      "Sample SD: 0.7303577789050377\n",
      "The negative Z-score is -1.71 standard deviations below the mean \n",
      "The negative Z-score represents -0.341 standard deviations below the mean \n",
      "The probability of the Z-score > -1.71 : 4.359%\n",
      "The probability of the Z-score < -1.71 : 95.641%\n",
      "The probability of the Z-score > -0.341 : 36.646%\n",
      "The probability of the Z-score < -0.341 : 63.354%\n",
      "The probability that a randomly selected adult has a body temperature between 97 and 98 degrees Farenheit 32.287% \n"
     ]
    }
   ],
   "source": [
    "print(\"Population mean:\", 98.6)\n",
    "print(\"Sample size: \", len(df['temperature']))\n",
    "print(\"Sample mean:\", np.mean(df['temperature']))\n",
    "print(\"Sample SD:\", np.std(df['temperature']))    \n",
    "\n",
    "zscore1 = (97 - np.mean(df['temperature'])) / np.std(df['temperature'])\n",
    "print((\"The negative Z-score is {:.3} standard deviations below the mean \").format(zscore1))\n",
    "\n",
    "zscore2 = (98 - np.mean(df['temperature'])) / np.std(df['temperature'])\n",
    "print((\"The negative Z-score represents {:.3} standard deviations below the mean \").format(zscore2))\n",
    "\n",
    "#Due to a property of the normal distribution, this area is equal to the area below a z-score\n",
    "\n",
    "#Compute this area\n",
    "pvaluesAboveZScore1 = st.norm.sf(abs(zscore1))\n",
    "print((\"The probability of the Z-score > {:.3} : {:.3%}\").format(zscore1,pvaluesAboveZScore1))\n",
    "\n",
    "pvaluesBelowZScore1 = 1-pvaluesAboveZScore1\n",
    "print((\"The probability of the Z-score < {:.3} : {:.3%}\").format(zscore1,pvaluesBelowZScore1))\n",
    "\n",
    "pvaluesAboveZScore2 = st.norm.sf(abs(zscore2))\n",
    "print((\"The probability of the Z-score > {:.3} : {:.3%}\").format(zscore2,pvaluesAboveZScore2))\n",
    "\n",
    "pvaluesBelowZScore2 = 1-pvaluesAboveZScore2\n",
    "print((\"The probability of the Z-score < {:.3} : {:.3%}\").format(zscore2,pvaluesBelowZScore2))\n",
    "\n",
    "\n",
    "diff = abs(pvaluesBelowZScore2 - pvaluesBelowZScore1)\n",
    "print((\"The probability that a randomly selected adult has a body temperature between 97 and 98 degrees Farenheit {:.3%} \").format(diff))\n"
   ]
  },
  {
   "cell_type": "markdown",
   "metadata": {},
   "source": [
    "## Bootstrapping"
   ]
  },
  {
   "cell_type": "markdown",
   "metadata": {},
   "source": [
    "We don't actually create the bootstrap population.But we simulate it by taking many samples from the original sample with replacement.\n",
    "1. Take a bootstrap sample.This is a random sample taken with replacement from the original sample.The same size as the original sample.\n",
    "\n",
    "2. Calculate the bootstrap statistic.This is what ever statistic you're interested in.In the example, we were interested in the median, but it could be a mean,a proportion, a standard deviation or whatever you like.\n",
    "\n",
    "3. Then, we repeat these steps one and two and create the bootstrap distribution.This is a distribution of bootstrap statistics.It's actually just like creating the sampling distribution, but there's one big difference.We're taking samples from the original sample instead of from the population to which we don't have access.\n",
    " "
   ]
  },
  {
   "cell_type": "markdown",
   "metadata": {},
   "source": [
    "Taking a boot strap sample means doing this 20 times with replacement.And because we're sampling with replacement,each sample is going to be slightly different than the other,yielding a slightly different sample statistic.If we didn't do this with replacement, then we would end up with the same sample over and over, and the same median over and over.\n",
    "\n",
    "Using the bootstrap distribution,we can calculate a confidence interval in two ways.The first is the percentile method where we estimate, say, a 95% confidence interval, simply as the middle 95% of the bootstrap distribution.So the bounds of the interval Are the 2.5th and the 97.5th percentiles of the bootstrap distribution.Another, and more accurate method, is the standard error method.Here, we calculate the interval as the sample statistic plus or minus T star times the standard error of the bootstrap distribution, and the critical T score will have n minus one as its degrees of freedom,where n is the original sample size.\n",
    " "
   ]
  },
  {
   "cell_type": "markdown",
   "metadata": {},
   "source": [
    "#### bootstrap vs sampling distributions \n",
    "\n",
    "Sampling distributions are created using sampling with replacement from the population.\n",
    "Bootstrap distributions are created using sampling with replacement from the sample,\n",
    "and both of these distributions are distributions of sample statistics.\n",
    " "
   ]
  },
  {
   "cell_type": "markdown",
   "metadata": {},
   "source": [
    "## Prediction Interval"
   ]
  },
  {
   "cell_type": "markdown",
   "metadata": {},
   "source": [
    "Prediction intervals are commonly used as definitions of reference ranges, such as reference ranges for blood tests to give an idea of whether a blood test is normal or not. For this purpose, the most commonly used prediction interval is the 95% prediction interval, and a reference range based on it can be called a standard reference range.\n",
    "\n",
    "Unlike confidence intervals that are only concerned with the center of the population distribution, prediction intervals take into account the tails of the distribution as well as the center. As a result, prediction intervals have greater sensitivity to the assumption of normality than do confidence intervals and thus the assumption of normality should be tested prior to calculating a prediction interval. \n",
    "\n",
    "All that is needed for a formula to calculate a prediction interval is to add an extra term to account for the variability of a single observation about the mean. This variability is accounted for by adding 1 to the 1/n term under the square root symbol in Eq 2. Doing so yields the prediction interval formula for normally distributed data:\n",
    "\n"
   ]
  }
 ],
 "metadata": {
  "kernelspec": {
   "display_name": "Python 3",
   "language": "python",
   "name": "python3"
  },
  "language_info": {
   "codemirror_mode": {
    "name": "ipython",
    "version": 3
   },
   "file_extension": ".py",
   "mimetype": "text/x-python",
   "name": "python",
   "nbconvert_exporter": "python",
   "pygments_lexer": "ipython3",
   "version": "3.6.3"
  }
 },
 "nbformat": 4,
 "nbformat_minor": 2
}
