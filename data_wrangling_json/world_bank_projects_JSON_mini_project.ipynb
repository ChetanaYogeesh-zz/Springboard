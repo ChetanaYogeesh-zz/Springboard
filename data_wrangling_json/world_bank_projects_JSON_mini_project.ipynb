{
 "cells": [
  {
   "cell_type": "markdown",
   "metadata": {},
   "source": [
    "## Import the necessary libraries"
   ]
  },
  {
   "cell_type": "code",
   "execution_count": 296,
   "metadata": {
    "collapsed": true
   },
   "outputs": [],
   "source": [
    "import pandas as pd\n",
    "import json\n",
    "from pandas.io.json import json_normalize\n"
   ]
  },
  {
   "cell_type": "markdown",
   "metadata": {},
   "source": [
    "## Load as Pandas dataframe"
   ]
  },
  {
   "cell_type": "code",
   "execution_count": 297,
   "metadata": {
    "collapsed": true,
    "scrolled": false
   },
   "outputs": [],
   "source": [
    "\n",
    "sample_json_df = pd.read_json('data/world_bank_projects.json')\n"
   ]
  },
  {
   "cell_type": "markdown",
   "metadata": {},
   "source": [
    "## See the first and last 10 entries"
   ]
  },
  {
   "cell_type": "code",
   "execution_count": 450,
   "metadata": {},
   "outputs": [
    {
     "data": {
      "text/html": [
       "<div>\n",
       "<style>\n",
       "    .dataframe thead tr:only-child th {\n",
       "        text-align: right;\n",
       "    }\n",
       "\n",
       "    .dataframe thead th {\n",
       "        text-align: left;\n",
       "    }\n",
       "\n",
       "    .dataframe tbody tr th {\n",
       "        vertical-align: top;\n",
       "    }\n",
       "</style>\n",
       "<table border=\"1\" class=\"dataframe\">\n",
       "  <thead>\n",
       "    <tr style=\"text-align: right;\">\n",
       "      <th></th>\n",
       "      <th>_id</th>\n",
       "      <th>approvalfy</th>\n",
       "      <th>board_approval_month</th>\n",
       "      <th>boardapprovaldate</th>\n",
       "      <th>borrower</th>\n",
       "      <th>closingdate</th>\n",
       "      <th>country_namecode</th>\n",
       "      <th>countrycode</th>\n",
       "      <th>countryname</th>\n",
       "      <th>countryshortname</th>\n",
       "      <th>...</th>\n",
       "      <th>source</th>\n",
       "      <th>status</th>\n",
       "      <th>supplementprojectflg</th>\n",
       "      <th>theme1</th>\n",
       "      <th>theme_namecode</th>\n",
       "      <th>themecode</th>\n",
       "      <th>totalamt</th>\n",
       "      <th>totalcommamt</th>\n",
       "      <th>url</th>\n",
       "      <th>meanprojectcost</th>\n",
       "    </tr>\n",
       "  </thead>\n",
       "  <tbody>\n",
       "    <tr>\n",
       "      <th>498</th>\n",
       "      <td>{'$oid': '52b213b38594d8a2be17c972'}</td>\n",
       "      <td>2013</td>\n",
       "      <td>August</td>\n",
       "      <td>2012-08-02T00:00:00Z</td>\n",
       "      <td>REPUBLIC OF INDONESIA</td>\n",
       "      <td>2017-09-30T00:00:00Z</td>\n",
       "      <td>Republic of Indonesia!$!ID</td>\n",
       "      <td>ID</td>\n",
       "      <td>Republic of Indonesia</td>\n",
       "      <td>Indonesia</td>\n",
       "      <td>...</td>\n",
       "      <td>IBRD</td>\n",
       "      <td>Active</td>\n",
       "      <td>N</td>\n",
       "      <td>{'Percent': 85, 'Name': 'Rural services and in...</td>\n",
       "      <td>[{'code': '78', 'name': 'Rural services and in...</td>\n",
       "      <td>77,91,78</td>\n",
       "      <td>80000000</td>\n",
       "      <td>80000000</td>\n",
       "      <td>http://www.worldbank.org/projects/P117243/sust...</td>\n",
       "      <td>106000000</td>\n",
       "    </tr>\n",
       "    <tr>\n",
       "      <th>499</th>\n",
       "      <td>{'$oid': '52b213b38594d8a2be17c973'}</td>\n",
       "      <td>2013</td>\n",
       "      <td>August</td>\n",
       "      <td>2012-08-02T00:00:00Z</td>\n",
       "      <td>GOVERMENT OF KENYA</td>\n",
       "      <td>2018-12-31T00:00:00Z</td>\n",
       "      <td>Republic of Kenya!$!KE</td>\n",
       "      <td>KE</td>\n",
       "      <td>Republic of Kenya</td>\n",
       "      <td>Kenya</td>\n",
       "      <td>...</td>\n",
       "      <td>IBRD</td>\n",
       "      <td>Active</td>\n",
       "      <td>N</td>\n",
       "      <td>{'Percent': 1, 'Name': 'Municipal governance a...</td>\n",
       "      <td>[{'code': '73', 'name': 'Municipal governance ...</td>\n",
       "      <td>39,49,88,73</td>\n",
       "      <td>300000000</td>\n",
       "      <td>300000000</td>\n",
       "      <td>http://www.worldbank.org/projects/P126321/keny...</td>\n",
       "      <td>300000000</td>\n",
       "    </tr>\n",
       "  </tbody>\n",
       "</table>\n",
       "<p>2 rows × 51 columns</p>\n",
       "</div>"
      ],
      "text/plain": [
       "                                      _id  approvalfy board_approval_month  \\\n",
       "498  {'$oid': '52b213b38594d8a2be17c972'}        2013               August   \n",
       "499  {'$oid': '52b213b38594d8a2be17c973'}        2013               August   \n",
       "\n",
       "        boardapprovaldate               borrower           closingdate  \\\n",
       "498  2012-08-02T00:00:00Z  REPUBLIC OF INDONESIA  2017-09-30T00:00:00Z   \n",
       "499  2012-08-02T00:00:00Z     GOVERMENT OF KENYA  2018-12-31T00:00:00Z   \n",
       "\n",
       "               country_namecode countrycode            countryname  \\\n",
       "498  Republic of Indonesia!$!ID          ID  Republic of Indonesia   \n",
       "499      Republic of Kenya!$!KE          KE      Republic of Kenya   \n",
       "\n",
       "    countryshortname       ...        source  status  supplementprojectflg  \\\n",
       "498        Indonesia       ...          IBRD  Active                     N   \n",
       "499            Kenya       ...          IBRD  Active                     N   \n",
       "\n",
       "                                                theme1  \\\n",
       "498  {'Percent': 85, 'Name': 'Rural services and in...   \n",
       "499  {'Percent': 1, 'Name': 'Municipal governance a...   \n",
       "\n",
       "                                        theme_namecode    themecode  \\\n",
       "498  [{'code': '78', 'name': 'Rural services and in...     77,91,78   \n",
       "499  [{'code': '73', 'name': 'Municipal governance ...  39,49,88,73   \n",
       "\n",
       "      totalamt totalcommamt  \\\n",
       "498   80000000     80000000   \n",
       "499  300000000    300000000   \n",
       "\n",
       "                                                   url  meanprojectcost  \n",
       "498  http://www.worldbank.org/projects/P117243/sust...        106000000  \n",
       "499  http://www.worldbank.org/projects/P126321/keny...        300000000  \n",
       "\n",
       "[2 rows x 51 columns]"
      ]
     },
     "execution_count": 450,
     "metadata": {},
     "output_type": "execute_result"
    }
   ],
   "source": [
    "sample_json_df.head(2)\n",
    "\n",
    "sample_json_df.tail(2)"
   ]
  },
  {
   "cell_type": "markdown",
   "metadata": {},
   "source": [
    "## What is the number of observations in the dataset?"
   ]
  },
  {
   "cell_type": "code",
   "execution_count": 452,
   "metadata": {},
   "outputs": [
    {
     "name": "stdout",
     "output_type": "stream",
     "text": [
      "<class 'pandas.core.frame.DataFrame'>\n",
      "Int64Index: 500 entries, 0 to 499\n",
      "Data columns (total 51 columns):\n",
      "_id                         500 non-null object\n",
      "approvalfy                  500 non-null int64\n",
      "board_approval_month        500 non-null object\n",
      "boardapprovaldate           500 non-null object\n",
      "borrower                    485 non-null object\n",
      "closingdate                 370 non-null object\n",
      "country_namecode            500 non-null object\n",
      "countrycode                 500 non-null object\n",
      "countryname                 500 non-null object\n",
      "countryshortname            500 non-null object\n",
      "docty                       446 non-null object\n",
      "envassesmentcategorycode    430 non-null object\n",
      "grantamt                    500 non-null int64\n",
      "ibrdcommamt                 500 non-null int64\n",
      "id                          500 non-null object\n",
      "idacommamt                  500 non-null int64\n",
      "impagency                   472 non-null object\n",
      "lendinginstr                495 non-null object\n",
      "lendinginstrtype            495 non-null object\n",
      "lendprojectcost             500 non-null int64\n",
      "majorsector_percent         500 non-null object\n",
      "mjsector_namecode           500 non-null object\n",
      "mjtheme                     491 non-null object\n",
      "mjtheme_namecode            500 non-null object\n",
      "mjthemecode                 500 non-null object\n",
      "prodline                    500 non-null object\n",
      "prodlinetext                500 non-null object\n",
      "productlinetype             500 non-null object\n",
      "project_abstract            362 non-null object\n",
      "project_name                500 non-null object\n",
      "projectdocs                 446 non-null object\n",
      "projectfinancialtype        500 non-null object\n",
      "projectstatusdisplay        500 non-null object\n",
      "regionname                  500 non-null object\n",
      "sector                      500 non-null object\n",
      "sector1                     500 non-null object\n",
      "sector2                     380 non-null object\n",
      "sector3                     265 non-null object\n",
      "sector4                     174 non-null object\n",
      "sector_namecode             500 non-null object\n",
      "sectorcode                  500 non-null object\n",
      "source                      500 non-null object\n",
      "status                      500 non-null object\n",
      "supplementprojectflg        498 non-null object\n",
      "theme1                      500 non-null object\n",
      "theme_namecode              491 non-null object\n",
      "themecode                   491 non-null object\n",
      "totalamt                    500 non-null int64\n",
      "totalcommamt                500 non-null int64\n",
      "url                         500 non-null object\n",
      "meanprojectcost             500 non-null int64\n",
      "dtypes: int64(8), object(43)\n",
      "memory usage: 223.1+ KB\n"
     ]
    },
    {
     "data": {
      "text/plain": [
       "500"
      ]
     },
     "execution_count": 452,
     "metadata": {},
     "output_type": "execute_result"
    }
   ],
   "source": [
    "sample_json_df.info() #500 observations\n",
    "sample_json_df.shape[0] #500 observations\n",
    "\n",
    "#15 borrowers are missing \n",
    "#54 docty are missing\n",
    "#70 envassesmentcategorycode are missing\n",
    "#impagency are missing\n"
   ]
  },
  {
   "cell_type": "code",
   "execution_count": 300,
   "metadata": {},
   "outputs": [
    {
     "data": {
      "text/plain": [
       "50"
      ]
     },
     "execution_count": 300,
     "metadata": {},
     "output_type": "execute_result"
    }
   ],
   "source": [
    "sample_json_df.shape[1]"
   ]
  },
  {
   "cell_type": "markdown",
   "metadata": {},
   "source": [
    "<b>What is the number of columns in the dataset and print the name of all the columns.</b>"
   ]
  },
  {
   "cell_type": "code",
   "execution_count": 301,
   "metadata": {
    "scrolled": true
   },
   "outputs": [
    {
     "data": {
      "text/plain": [
       "Index(['_id', 'approvalfy', 'board_approval_month', 'boardapprovaldate',\n",
       "       'borrower', 'closingdate', 'country_namecode', 'countrycode',\n",
       "       'countryname', 'countryshortname', 'docty', 'envassesmentcategorycode',\n",
       "       'grantamt', 'ibrdcommamt', 'id', 'idacommamt', 'impagency',\n",
       "       'lendinginstr', 'lendinginstrtype', 'lendprojectcost',\n",
       "       'majorsector_percent', 'mjsector_namecode', 'mjtheme',\n",
       "       'mjtheme_namecode', 'mjthemecode', 'prodline', 'prodlinetext',\n",
       "       'productlinetype', 'project_abstract', 'project_name', 'projectdocs',\n",
       "       'projectfinancialtype', 'projectstatusdisplay', 'regionname', 'sector',\n",
       "       'sector1', 'sector2', 'sector3', 'sector4', 'sector_namecode',\n",
       "       'sectorcode', 'source', 'status', 'supplementprojectflg', 'theme1',\n",
       "       'theme_namecode', 'themecode', 'totalamt', 'totalcommamt', 'url'],\n",
       "      dtype='object')"
      ]
     },
     "execution_count": 301,
     "metadata": {},
     "output_type": "execute_result"
    }
   ],
   "source": [
    "sample_json_df.shape[1] #50 columns in the dataset\n",
    "sample_json_df.columns "
   ]
  },
  {
   "cell_type": "markdown",
   "metadata": {},
   "source": [
    "## How is the dataset indexed?"
   ]
  },
  {
   "cell_type": "code",
   "execution_count": 302,
   "metadata": {},
   "outputs": [
    {
     "data": {
      "text/plain": [
       "Int64Index([  0,   1,   2,   3,   4,   5,   6,   7,   8,   9,\n",
       "            ...\n",
       "            490, 491, 492, 493, 494, 495, 496, 497, 498, 499],\n",
       "           dtype='int64', length=500)"
      ]
     },
     "execution_count": 302,
     "metadata": {},
     "output_type": "execute_result"
    }
   ],
   "source": [
    "sample_json_df.index"
   ]
  },
  {
   "cell_type": "markdown",
   "metadata": {},
   "source": [
    "## Handle missing Data"
   ]
  },
  {
   "cell_type": "code",
   "execution_count": 453,
   "metadata": {},
   "outputs": [
    {
     "data": {
      "text/plain": [
       "0    {'cdata': 'The development objective of the Se...\n",
       "1                                                  NaN\n",
       "2                                                  NaN\n",
       "Name: project_abstract, dtype: object"
      ]
     },
     "execution_count": 453,
     "metadata": {},
     "output_type": "execute_result"
    }
   ],
   "source": [
    "sample_json_df[\"project_abstract\"].fillna(sample_json_df[\"project_abstract\"], inplace=True)\n",
    "sample_json_df[\"project_abstract\"].head(3)"
   ]
  },
  {
   "cell_type": "markdown",
   "metadata": {},
   "source": [
    "## Fill in missing in lendprojectcost with each project_name’s mean value of lendprojectcost\n"
   ]
  },
  {
   "cell_type": "code",
   "execution_count": 454,
   "metadata": {},
   "outputs": [
    {
     "data": {
      "text/html": [
       "<div>\n",
       "<style>\n",
       "    .dataframe thead tr:only-child th {\n",
       "        text-align: right;\n",
       "    }\n",
       "\n",
       "    .dataframe thead th {\n",
       "        text-align: left;\n",
       "    }\n",
       "\n",
       "    .dataframe tbody tr th {\n",
       "        vertical-align: top;\n",
       "    }\n",
       "</style>\n",
       "<table border=\"1\" class=\"dataframe\">\n",
       "  <thead>\n",
       "    <tr style=\"text-align: right;\">\n",
       "      <th></th>\n",
       "      <th>_id</th>\n",
       "      <th>approvalfy</th>\n",
       "      <th>board_approval_month</th>\n",
       "      <th>boardapprovaldate</th>\n",
       "      <th>borrower</th>\n",
       "      <th>closingdate</th>\n",
       "      <th>country_namecode</th>\n",
       "      <th>countrycode</th>\n",
       "      <th>countryname</th>\n",
       "      <th>countryshortname</th>\n",
       "      <th>...</th>\n",
       "      <th>source</th>\n",
       "      <th>status</th>\n",
       "      <th>supplementprojectflg</th>\n",
       "      <th>theme1</th>\n",
       "      <th>theme_namecode</th>\n",
       "      <th>themecode</th>\n",
       "      <th>totalamt</th>\n",
       "      <th>totalcommamt</th>\n",
       "      <th>url</th>\n",
       "      <th>meanprojectcost</th>\n",
       "    </tr>\n",
       "  </thead>\n",
       "  <tbody>\n",
       "    <tr>\n",
       "      <th>0</th>\n",
       "      <td>{'$oid': '52b213b38594d8a2be17c780'}</td>\n",
       "      <td>1999</td>\n",
       "      <td>November</td>\n",
       "      <td>2013-11-12T00:00:00Z</td>\n",
       "      <td>FEDERAL DEMOCRATIC REPUBLIC OF ETHIOPIA</td>\n",
       "      <td>2018-07-07T00:00:00Z</td>\n",
       "      <td>Federal Democratic Republic of Ethiopia!$!ET</td>\n",
       "      <td>ET</td>\n",
       "      <td>Federal Democratic Republic of Ethiopia</td>\n",
       "      <td>Ethiopia</td>\n",
       "      <td>...</td>\n",
       "      <td>IBRD</td>\n",
       "      <td>Active</td>\n",
       "      <td>N</td>\n",
       "      <td>{'Percent': 100, 'Name': 'Education for all'}</td>\n",
       "      <td>[{'code': '65', 'name': 'Education for all'}]</td>\n",
       "      <td>65</td>\n",
       "      <td>130000000</td>\n",
       "      <td>130000000</td>\n",
       "      <td>http://www.worldbank.org/projects/P129828/ethi...</td>\n",
       "      <td>550000000</td>\n",
       "    </tr>\n",
       "    <tr>\n",
       "      <th>1</th>\n",
       "      <td>{'$oid': '52b213b38594d8a2be17c781'}</td>\n",
       "      <td>2015</td>\n",
       "      <td>November</td>\n",
       "      <td>2013-11-04T00:00:00Z</td>\n",
       "      <td>GOVERNMENT OF TUNISIA</td>\n",
       "      <td>NaN</td>\n",
       "      <td>Republic of Tunisia!$!TN</td>\n",
       "      <td>TN</td>\n",
       "      <td>Republic of Tunisia</td>\n",
       "      <td>Tunisia</td>\n",
       "      <td>...</td>\n",
       "      <td>IBRD</td>\n",
       "      <td>Active</td>\n",
       "      <td>N</td>\n",
       "      <td>{'Percent': 30, 'Name': 'Other economic manage...</td>\n",
       "      <td>[{'code': '24', 'name': 'Other economic manage...</td>\n",
       "      <td>54,24</td>\n",
       "      <td>0</td>\n",
       "      <td>4700000</td>\n",
       "      <td>http://www.worldbank.org/projects/P144674?lang=en</td>\n",
       "      <td>5700000</td>\n",
       "    </tr>\n",
       "    <tr>\n",
       "      <th>2</th>\n",
       "      <td>{'$oid': '52b213b38594d8a2be17c782'}</td>\n",
       "      <td>2014</td>\n",
       "      <td>November</td>\n",
       "      <td>2013-11-01T00:00:00Z</td>\n",
       "      <td>MINISTRY OF FINANCE AND ECONOMIC DEVEL</td>\n",
       "      <td>NaN</td>\n",
       "      <td>Tuvalu!$!TV</td>\n",
       "      <td>TV</td>\n",
       "      <td>Tuvalu</td>\n",
       "      <td>Tuvalu</td>\n",
       "      <td>...</td>\n",
       "      <td>IBRD</td>\n",
       "      <td>Active</td>\n",
       "      <td>Y</td>\n",
       "      <td>{'Percent': 46, 'Name': 'Regional integration'}</td>\n",
       "      <td>[{'code': '47', 'name': 'Regional integration'...</td>\n",
       "      <td>52,81,25,47</td>\n",
       "      <td>6060000</td>\n",
       "      <td>6060000</td>\n",
       "      <td>http://www.worldbank.org/projects/P145310?lang=en</td>\n",
       "      <td>6060000</td>\n",
       "    </tr>\n",
       "    <tr>\n",
       "      <th>3</th>\n",
       "      <td>{'$oid': '52b213b38594d8a2be17c783'}</td>\n",
       "      <td>2014</td>\n",
       "      <td>October</td>\n",
       "      <td>2013-10-31T00:00:00Z</td>\n",
       "      <td>MIN. OF PLANNING AND INT'L COOPERATION</td>\n",
       "      <td>NaN</td>\n",
       "      <td>Republic of Yemen!$!RY</td>\n",
       "      <td>RY</td>\n",
       "      <td>Republic of Yemen</td>\n",
       "      <td>Yemen, Republic of</td>\n",
       "      <td>...</td>\n",
       "      <td>IBRD</td>\n",
       "      <td>Active</td>\n",
       "      <td>N</td>\n",
       "      <td>{'Percent': 50, 'Name': 'Participation and civ...</td>\n",
       "      <td>[{'code': '57', 'name': 'Participation and civ...</td>\n",
       "      <td>59,57</td>\n",
       "      <td>0</td>\n",
       "      <td>1500000</td>\n",
       "      <td>http://www.worldbank.org/projects/P144665?lang=en</td>\n",
       "      <td>1500000</td>\n",
       "    </tr>\n",
       "  </tbody>\n",
       "</table>\n",
       "<p>4 rows × 51 columns</p>\n",
       "</div>"
      ],
      "text/plain": [
       "                                    _id  approvalfy board_approval_month  \\\n",
       "0  {'$oid': '52b213b38594d8a2be17c780'}        1999             November   \n",
       "1  {'$oid': '52b213b38594d8a2be17c781'}        2015             November   \n",
       "2  {'$oid': '52b213b38594d8a2be17c782'}        2014             November   \n",
       "3  {'$oid': '52b213b38594d8a2be17c783'}        2014              October   \n",
       "\n",
       "      boardapprovaldate                                 borrower  \\\n",
       "0  2013-11-12T00:00:00Z  FEDERAL DEMOCRATIC REPUBLIC OF ETHIOPIA   \n",
       "1  2013-11-04T00:00:00Z                    GOVERNMENT OF TUNISIA   \n",
       "2  2013-11-01T00:00:00Z   MINISTRY OF FINANCE AND ECONOMIC DEVEL   \n",
       "3  2013-10-31T00:00:00Z   MIN. OF PLANNING AND INT'L COOPERATION   \n",
       "\n",
       "            closingdate                              country_namecode  \\\n",
       "0  2018-07-07T00:00:00Z  Federal Democratic Republic of Ethiopia!$!ET   \n",
       "1                   NaN                      Republic of Tunisia!$!TN   \n",
       "2                   NaN                                   Tuvalu!$!TV   \n",
       "3                   NaN                        Republic of Yemen!$!RY   \n",
       "\n",
       "  countrycode                              countryname    countryshortname  \\\n",
       "0          ET  Federal Democratic Republic of Ethiopia            Ethiopia   \n",
       "1          TN                      Republic of Tunisia             Tunisia   \n",
       "2          TV                                   Tuvalu              Tuvalu   \n",
       "3          RY                        Republic of Yemen  Yemen, Republic of   \n",
       "\n",
       "        ...        source  status  supplementprojectflg  \\\n",
       "0       ...          IBRD  Active                     N   \n",
       "1       ...          IBRD  Active                     N   \n",
       "2       ...          IBRD  Active                     Y   \n",
       "3       ...          IBRD  Active                     N   \n",
       "\n",
       "                                              theme1  \\\n",
       "0      {'Percent': 100, 'Name': 'Education for all'}   \n",
       "1  {'Percent': 30, 'Name': 'Other economic manage...   \n",
       "2    {'Percent': 46, 'Name': 'Regional integration'}   \n",
       "3  {'Percent': 50, 'Name': 'Participation and civ...   \n",
       "\n",
       "                                      theme_namecode    themecode   totalamt  \\\n",
       "0      [{'code': '65', 'name': 'Education for all'}]           65  130000000   \n",
       "1  [{'code': '24', 'name': 'Other economic manage...        54,24          0   \n",
       "2  [{'code': '47', 'name': 'Regional integration'...  52,81,25,47    6060000   \n",
       "3  [{'code': '57', 'name': 'Participation and civ...        59,57          0   \n",
       "\n",
       "  totalcommamt                                                url  \\\n",
       "0    130000000  http://www.worldbank.org/projects/P129828/ethi...   \n",
       "1      4700000  http://www.worldbank.org/projects/P144674?lang=en   \n",
       "2      6060000  http://www.worldbank.org/projects/P145310?lang=en   \n",
       "3      1500000  http://www.worldbank.org/projects/P144665?lang=en   \n",
       "\n",
       "   meanprojectcost  \n",
       "0        550000000  \n",
       "1          5700000  \n",
       "2          6060000  \n",
       "3          1500000  \n",
       "\n",
       "[4 rows x 51 columns]"
      ]
     },
     "execution_count": 454,
     "metadata": {},
     "output_type": "execute_result"
    }
   ],
   "source": [
    "sample_json_df[\"meanprojectcost\"]=sample_json_df['lendprojectcost']\n",
    "sample_json_df[\"meanprojectcost\"].fillna(sample_json_df.groupby(\"project_name\")[\"lendprojectcost\"].transform(\"mean\"), inplace=True)\n",
    "sample_json_df.head(4)"
   ]
  },
  {
   "cell_type": "markdown",
   "metadata": {},
   "source": [
    "## Select the rows of df where sector4 is not NaN and lendprojectcost is not NaN"
   ]
  },
  {
   "cell_type": "code",
   "execution_count": 455,
   "metadata": {},
   "outputs": [
    {
     "data": {
      "text/html": [
       "<div>\n",
       "<style>\n",
       "    .dataframe thead tr:only-child th {\n",
       "        text-align: right;\n",
       "    }\n",
       "\n",
       "    .dataframe thead th {\n",
       "        text-align: left;\n",
       "    }\n",
       "\n",
       "    .dataframe tbody tr th {\n",
       "        vertical-align: top;\n",
       "    }\n",
       "</style>\n",
       "<table border=\"1\" class=\"dataframe\">\n",
       "  <thead>\n",
       "    <tr style=\"text-align: right;\">\n",
       "      <th></th>\n",
       "      <th>_id</th>\n",
       "      <th>approvalfy</th>\n",
       "      <th>board_approval_month</th>\n",
       "      <th>boardapprovaldate</th>\n",
       "      <th>borrower</th>\n",
       "      <th>closingdate</th>\n",
       "      <th>country_namecode</th>\n",
       "      <th>countrycode</th>\n",
       "      <th>countryname</th>\n",
       "      <th>countryshortname</th>\n",
       "      <th>...</th>\n",
       "      <th>source</th>\n",
       "      <th>status</th>\n",
       "      <th>supplementprojectflg</th>\n",
       "      <th>theme1</th>\n",
       "      <th>theme_namecode</th>\n",
       "      <th>themecode</th>\n",
       "      <th>totalamt</th>\n",
       "      <th>totalcommamt</th>\n",
       "      <th>url</th>\n",
       "      <th>meanprojectcost</th>\n",
       "    </tr>\n",
       "  </thead>\n",
       "  <tbody>\n",
       "    <tr>\n",
       "      <th>0</th>\n",
       "      <td>{'$oid': '52b213b38594d8a2be17c780'}</td>\n",
       "      <td>1999</td>\n",
       "      <td>November</td>\n",
       "      <td>2013-11-12T00:00:00Z</td>\n",
       "      <td>FEDERAL DEMOCRATIC REPUBLIC OF ETHIOPIA</td>\n",
       "      <td>2018-07-07T00:00:00Z</td>\n",
       "      <td>Federal Democratic Republic of Ethiopia!$!ET</td>\n",
       "      <td>ET</td>\n",
       "      <td>Federal Democratic Republic of Ethiopia</td>\n",
       "      <td>Ethiopia</td>\n",
       "      <td>...</td>\n",
       "      <td>IBRD</td>\n",
       "      <td>Active</td>\n",
       "      <td>N</td>\n",
       "      <td>{'Percent': 100, 'Name': 'Education for all'}</td>\n",
       "      <td>[{'code': '65', 'name': 'Education for all'}]</td>\n",
       "      <td>65</td>\n",
       "      <td>130000000</td>\n",
       "      <td>130000000</td>\n",
       "      <td>http://www.worldbank.org/projects/P129828/ethi...</td>\n",
       "      <td>550000000</td>\n",
       "    </tr>\n",
       "    <tr>\n",
       "      <th>11</th>\n",
       "      <td>{'$oid': '52b213b38594d8a2be17c78b'}</td>\n",
       "      <td>2014</td>\n",
       "      <td>October</td>\n",
       "      <td>2013-10-25T00:00:00Z</td>\n",
       "      <td>NaN</td>\n",
       "      <td>2017-12-31T00:00:00Z</td>\n",
       "      <td>Republic of India!$!IN</td>\n",
       "      <td>IN</td>\n",
       "      <td>Republic of India</td>\n",
       "      <td>India</td>\n",
       "      <td>...</td>\n",
       "      <td>IBRD</td>\n",
       "      <td>Active</td>\n",
       "      <td>N</td>\n",
       "      <td>{'Percent': 60, 'Name': 'Rural services and in...</td>\n",
       "      <td>[{'code': '78', 'name': 'Rural services and in...</td>\n",
       "      <td>81,87,52,78</td>\n",
       "      <td>250000000</td>\n",
       "      <td>250000000</td>\n",
       "      <td>http://www.worldbank.org/projects/P146653?lang=en</td>\n",
       "      <td>250000000</td>\n",
       "    </tr>\n",
       "    <tr>\n",
       "      <th>18</th>\n",
       "      <td>{'$oid': '52b213b38594d8a2be17c792'}</td>\n",
       "      <td>2014</td>\n",
       "      <td>October</td>\n",
       "      <td>2013-10-16T00:00:00Z</td>\n",
       "      <td>ROYAL GOVERNMENT OF CAMBODIA</td>\n",
       "      <td>NaN</td>\n",
       "      <td>Kingdom of Cambodia!$!KH</td>\n",
       "      <td>KH</td>\n",
       "      <td>Kingdom of Cambodia</td>\n",
       "      <td>Cambodia</td>\n",
       "      <td>...</td>\n",
       "      <td>IBRD</td>\n",
       "      <td>Active</td>\n",
       "      <td>Y</td>\n",
       "      <td>{'Percent': 17, 'Name': 'Child health'}</td>\n",
       "      <td>[{'code': '63', 'name': 'Child health'}, {'cod...</td>\n",
       "      <td>69,57,25,67,63</td>\n",
       "      <td>0</td>\n",
       "      <td>13450000</td>\n",
       "      <td>http://www.worldbank.org/projects/P146271?lang=en</td>\n",
       "      <td>13450000</td>\n",
       "    </tr>\n",
       "  </tbody>\n",
       "</table>\n",
       "<p>3 rows × 51 columns</p>\n",
       "</div>"
      ],
      "text/plain": [
       "                                     _id  approvalfy board_approval_month  \\\n",
       "0   {'$oid': '52b213b38594d8a2be17c780'}        1999             November   \n",
       "11  {'$oid': '52b213b38594d8a2be17c78b'}        2014              October   \n",
       "18  {'$oid': '52b213b38594d8a2be17c792'}        2014              October   \n",
       "\n",
       "       boardapprovaldate                                 borrower  \\\n",
       "0   2013-11-12T00:00:00Z  FEDERAL DEMOCRATIC REPUBLIC OF ETHIOPIA   \n",
       "11  2013-10-25T00:00:00Z                                      NaN   \n",
       "18  2013-10-16T00:00:00Z             ROYAL GOVERNMENT OF CAMBODIA   \n",
       "\n",
       "             closingdate                              country_namecode  \\\n",
       "0   2018-07-07T00:00:00Z  Federal Democratic Republic of Ethiopia!$!ET   \n",
       "11  2017-12-31T00:00:00Z                        Republic of India!$!IN   \n",
       "18                   NaN                      Kingdom of Cambodia!$!KH   \n",
       "\n",
       "   countrycode                              countryname countryshortname  \\\n",
       "0           ET  Federal Democratic Republic of Ethiopia         Ethiopia   \n",
       "11          IN                        Republic of India            India   \n",
       "18          KH                      Kingdom of Cambodia         Cambodia   \n",
       "\n",
       "         ...        source  status  supplementprojectflg  \\\n",
       "0        ...          IBRD  Active                     N   \n",
       "11       ...          IBRD  Active                     N   \n",
       "18       ...          IBRD  Active                     Y   \n",
       "\n",
       "                                               theme1  \\\n",
       "0       {'Percent': 100, 'Name': 'Education for all'}   \n",
       "11  {'Percent': 60, 'Name': 'Rural services and in...   \n",
       "18            {'Percent': 17, 'Name': 'Child health'}   \n",
       "\n",
       "                                       theme_namecode       themecode  \\\n",
       "0       [{'code': '65', 'name': 'Education for all'}]              65   \n",
       "11  [{'code': '78', 'name': 'Rural services and in...     81,87,52,78   \n",
       "18  [{'code': '63', 'name': 'Child health'}, {'cod...  69,57,25,67,63   \n",
       "\n",
       "     totalamt totalcommamt                                                url  \\\n",
       "0   130000000    130000000  http://www.worldbank.org/projects/P129828/ethi...   \n",
       "11  250000000    250000000  http://www.worldbank.org/projects/P146653?lang=en   \n",
       "18          0     13450000  http://www.worldbank.org/projects/P146271?lang=en   \n",
       "\n",
       "    meanprojectcost  \n",
       "0         550000000  \n",
       "11        250000000  \n",
       "18         13450000  \n",
       "\n",
       "[3 rows x 51 columns]"
      ]
     },
     "execution_count": 455,
     "metadata": {},
     "output_type": "execute_result"
    }
   ],
   "source": [
    "sample_json_df[sample_json_df['sector4'].notnull() & sample_json_df['lendprojectcost'].notnull()].head(3)"
   ]
  },
  {
   "cell_type": "markdown",
   "metadata": {},
   "source": [
    "## How many different projects are being worked on?"
   ]
  },
  {
   "cell_type": "code",
   "execution_count": 306,
   "metadata": {},
   "outputs": [
    {
     "data": {
      "text/plain": [
       "500"
      ]
     },
     "execution_count": 306,
     "metadata": {},
     "output_type": "execute_result"
    }
   ],
   "source": [
    "sample_json_df.project_name.value_counts().count()"
   ]
  },
  {
   "cell_type": "markdown",
   "metadata": {},
   "source": [
    "## How many different countries are part of world bank project?"
   ]
  },
  {
   "cell_type": "code",
   "execution_count": 308,
   "metadata": {},
   "outputs": [
    {
     "data": {
      "text/plain": [
       "118"
      ]
     },
     "execution_count": 308,
     "metadata": {},
     "output_type": "execute_result"
    }
   ],
   "source": [
    "sample_json_df.countrycode.value_counts().count()"
   ]
  },
  {
   "cell_type": "markdown",
   "metadata": {},
   "source": [
    "## List Approval Fiscal Years?"
   ]
  },
  {
   "cell_type": "code",
   "execution_count": 309,
   "metadata": {},
   "outputs": [
    {
     "data": {
      "text/plain": [
       "array([1999, 2015, 2014, 2013])"
      ]
     },
     "execution_count": 309,
     "metadata": {},
     "output_type": "execute_result"
    }
   ],
   "source": [
    "approval_fiscal_years = sample_json_df['approvalfy'].unique()\n",
    "approval_fiscal_years"
   ]
  },
  {
   "cell_type": "markdown",
   "metadata": {},
   "source": [
    "## List top 10 projects with highest grant amount"
   ]
  },
  {
   "cell_type": "code",
   "execution_count": 312,
   "metadata": {
    "collapsed": true
   },
   "outputs": [],
   "source": [
    "\n",
    "\n",
    "c=sample_json_df[sample_json_df['projectstatusdisplay']=='Active'].groupby(['project_name','countryname']).sum()\n",
    "\n",
    "c=c.sort_values(['grantamt'],ascending=False).head(10)\n",
    "\n",
    "c = c.drop(['ibrdcommamt', 'idacommamt','totalamt','totalcommamt'], axis=1)\n",
    "\n"
   ]
  },
  {
   "cell_type": "markdown",
   "metadata": {
    "collapsed": true
   },
   "source": [
    "## Select project columns"
   ]
  },
  {
   "cell_type": "code",
   "execution_count": 456,
   "metadata": {},
   "outputs": [
    {
     "data": {
      "text/html": [
       "<div>\n",
       "<style>\n",
       "    .dataframe thead tr:only-child th {\n",
       "        text-align: right;\n",
       "    }\n",
       "\n",
       "    .dataframe thead th {\n",
       "        text-align: left;\n",
       "    }\n",
       "\n",
       "    .dataframe tbody tr th {\n",
       "        vertical-align: top;\n",
       "    }\n",
       "</style>\n",
       "<table border=\"1\" class=\"dataframe\">\n",
       "  <thead>\n",
       "    <tr style=\"text-align: right;\">\n",
       "      <th></th>\n",
       "      <th>_id</th>\n",
       "      <th>countrycode</th>\n",
       "      <th>countryname</th>\n",
       "      <th>project_name</th>\n",
       "      <th>projectdocs</th>\n",
       "      <th>projectstatusdisplay</th>\n",
       "    </tr>\n",
       "  </thead>\n",
       "  <tbody>\n",
       "    <tr>\n",
       "      <th>0</th>\n",
       "      <td>{'$oid': '52b213b38594d8a2be17c780'}</td>\n",
       "      <td>ET</td>\n",
       "      <td>Federal Democratic Republic of Ethiopia</td>\n",
       "      <td>Ethiopia General Education Quality Improvement...</td>\n",
       "      <td>[{'DocDate': '28-AUG-2013', 'EntityID': '09022...</td>\n",
       "      <td>Active</td>\n",
       "    </tr>\n",
       "    <tr>\n",
       "      <th>1</th>\n",
       "      <td>{'$oid': '52b213b38594d8a2be17c781'}</td>\n",
       "      <td>TN</td>\n",
       "      <td>Republic of Tunisia</td>\n",
       "      <td>TN: DTF Social Protection Reforms Support</td>\n",
       "      <td>[{'DocDate': '29-MAR-2013', 'EntityID': '00033...</td>\n",
       "      <td>Active</td>\n",
       "    </tr>\n",
       "    <tr>\n",
       "      <th>2</th>\n",
       "      <td>{'$oid': '52b213b38594d8a2be17c782'}</td>\n",
       "      <td>TV</td>\n",
       "      <td>Tuvalu</td>\n",
       "      <td>Tuvalu Aviation Investment Project - Additiona...</td>\n",
       "      <td>[{'DocDate': '21-OCT-2013', 'EntityID': '00033...</td>\n",
       "      <td>Active</td>\n",
       "    </tr>\n",
       "  </tbody>\n",
       "</table>\n",
       "</div>"
      ],
      "text/plain": [
       "                                    _id countrycode  \\\n",
       "0  {'$oid': '52b213b38594d8a2be17c780'}          ET   \n",
       "1  {'$oid': '52b213b38594d8a2be17c781'}          TN   \n",
       "2  {'$oid': '52b213b38594d8a2be17c782'}          TV   \n",
       "\n",
       "                               countryname  \\\n",
       "0  Federal Democratic Republic of Ethiopia   \n",
       "1                      Republic of Tunisia   \n",
       "2                                   Tuvalu   \n",
       "\n",
       "                                        project_name  \\\n",
       "0  Ethiopia General Education Quality Improvement...   \n",
       "1          TN: DTF Social Protection Reforms Support   \n",
       "2  Tuvalu Aviation Investment Project - Additiona...   \n",
       "\n",
       "                                         projectdocs projectstatusdisplay  \n",
       "0  [{'DocDate': '28-AUG-2013', 'EntityID': '09022...               Active  \n",
       "1  [{'DocDate': '29-MAR-2013', 'EntityID': '00033...               Active  \n",
       "2  [{'DocDate': '21-OCT-2013', 'EntityID': '00033...               Active  "
      ]
     },
     "execution_count": 456,
     "metadata": {},
     "output_type": "execute_result"
    }
   ],
   "source": [
    "sample_json_df.loc[:,['_id','countrycode','countryname','project_name','projectdocs','projectstatusdisplay']].head(3)"
   ]
  },
  {
   "cell_type": "code",
   "execution_count": 314,
   "metadata": {},
   "outputs": [
    {
     "data": {
      "text/html": [
       "<div>\n",
       "<style>\n",
       "    .dataframe thead tr:only-child th {\n",
       "        text-align: right;\n",
       "    }\n",
       "\n",
       "    .dataframe thead th {\n",
       "        text-align: left;\n",
       "    }\n",
       "\n",
       "    .dataframe tbody tr th {\n",
       "        vertical-align: top;\n",
       "    }\n",
       "</style>\n",
       "<table border=\"1\" class=\"dataframe\">\n",
       "  <thead>\n",
       "    <tr style=\"text-align: right;\">\n",
       "      <th></th>\n",
       "      <th>approvalfy</th>\n",
       "      <th>grantamt</th>\n",
       "      <th>ibrdcommamt</th>\n",
       "      <th>idacommamt</th>\n",
       "      <th>lendprojectcost</th>\n",
       "      <th>totalamt</th>\n",
       "      <th>totalcommamt</th>\n",
       "      <th>meanprojectcost</th>\n",
       "    </tr>\n",
       "  </thead>\n",
       "  <tbody>\n",
       "    <tr>\n",
       "      <th>count</th>\n",
       "      <td>500.000000</td>\n",
       "      <td>5.000000e+02</td>\n",
       "      <td>5.000000e+02</td>\n",
       "      <td>5.000000e+02</td>\n",
       "      <td>5.000000e+02</td>\n",
       "      <td>5.000000e+02</td>\n",
       "      <td>5.000000e+02</td>\n",
       "      <td>5.000000e+02</td>\n",
       "    </tr>\n",
       "    <tr>\n",
       "      <th>mean</th>\n",
       "      <td>2013.108000</td>\n",
       "      <td>4.432400e+06</td>\n",
       "      <td>3.286010e+07</td>\n",
       "      <td>3.542136e+07</td>\n",
       "      <td>1.547241e+08</td>\n",
       "      <td>6.828146e+07</td>\n",
       "      <td>7.271386e+07</td>\n",
       "      <td>1.547241e+08</td>\n",
       "    </tr>\n",
       "    <tr>\n",
       "      <th>std</th>\n",
       "      <td>0.722066</td>\n",
       "      <td>2.023307e+07</td>\n",
       "      <td>1.089197e+08</td>\n",
       "      <td>7.681431e+07</td>\n",
       "      <td>4.764211e+08</td>\n",
       "      <td>1.242662e+08</td>\n",
       "      <td>1.234705e+08</td>\n",
       "      <td>4.764211e+08</td>\n",
       "    </tr>\n",
       "    <tr>\n",
       "      <th>min</th>\n",
       "      <td>1999.000000</td>\n",
       "      <td>0.000000e+00</td>\n",
       "      <td>0.000000e+00</td>\n",
       "      <td>0.000000e+00</td>\n",
       "      <td>3.000000e+04</td>\n",
       "      <td>0.000000e+00</td>\n",
       "      <td>3.000000e+04</td>\n",
       "      <td>3.000000e+04</td>\n",
       "    </tr>\n",
       "    <tr>\n",
       "      <th>25%</th>\n",
       "      <td>2013.000000</td>\n",
       "      <td>0.000000e+00</td>\n",
       "      <td>0.000000e+00</td>\n",
       "      <td>0.000000e+00</td>\n",
       "      <td>6.472500e+06</td>\n",
       "      <td>0.000000e+00</td>\n",
       "      <td>5.000000e+06</td>\n",
       "      <td>6.472500e+06</td>\n",
       "    </tr>\n",
       "    <tr>\n",
       "      <th>50%</th>\n",
       "      <td>2013.000000</td>\n",
       "      <td>0.000000e+00</td>\n",
       "      <td>0.000000e+00</td>\n",
       "      <td>0.000000e+00</td>\n",
       "      <td>3.500000e+07</td>\n",
       "      <td>2.000000e+07</td>\n",
       "      <td>2.500000e+07</td>\n",
       "      <td>3.500000e+07</td>\n",
       "    </tr>\n",
       "    <tr>\n",
       "      <th>75%</th>\n",
       "      <td>2013.000000</td>\n",
       "      <td>1.695000e+06</td>\n",
       "      <td>0.000000e+00</td>\n",
       "      <td>3.700000e+07</td>\n",
       "      <td>1.021250e+08</td>\n",
       "      <td>8.625000e+07</td>\n",
       "      <td>9.045000e+07</td>\n",
       "      <td>1.021250e+08</td>\n",
       "    </tr>\n",
       "    <tr>\n",
       "      <th>max</th>\n",
       "      <td>2015.000000</td>\n",
       "      <td>3.650000e+08</td>\n",
       "      <td>1.307800e+09</td>\n",
       "      <td>6.000000e+08</td>\n",
       "      <td>5.170000e+09</td>\n",
       "      <td>1.307800e+09</td>\n",
       "      <td>1.307800e+09</td>\n",
       "      <td>5.170000e+09</td>\n",
       "    </tr>\n",
       "  </tbody>\n",
       "</table>\n",
       "</div>"
      ],
      "text/plain": [
       "        approvalfy      grantamt   ibrdcommamt    idacommamt  lendprojectcost  \\\n",
       "count   500.000000  5.000000e+02  5.000000e+02  5.000000e+02     5.000000e+02   \n",
       "mean   2013.108000  4.432400e+06  3.286010e+07  3.542136e+07     1.547241e+08   \n",
       "std       0.722066  2.023307e+07  1.089197e+08  7.681431e+07     4.764211e+08   \n",
       "min    1999.000000  0.000000e+00  0.000000e+00  0.000000e+00     3.000000e+04   \n",
       "25%    2013.000000  0.000000e+00  0.000000e+00  0.000000e+00     6.472500e+06   \n",
       "50%    2013.000000  0.000000e+00  0.000000e+00  0.000000e+00     3.500000e+07   \n",
       "75%    2013.000000  1.695000e+06  0.000000e+00  3.700000e+07     1.021250e+08   \n",
       "max    2015.000000  3.650000e+08  1.307800e+09  6.000000e+08     5.170000e+09   \n",
       "\n",
       "           totalamt  totalcommamt  meanprojectcost  \n",
       "count  5.000000e+02  5.000000e+02     5.000000e+02  \n",
       "mean   6.828146e+07  7.271386e+07     1.547241e+08  \n",
       "std    1.242662e+08  1.234705e+08     4.764211e+08  \n",
       "min    0.000000e+00  3.000000e+04     3.000000e+04  \n",
       "25%    0.000000e+00  5.000000e+06     6.472500e+06  \n",
       "50%    2.000000e+07  2.500000e+07     3.500000e+07  \n",
       "75%    8.625000e+07  9.045000e+07     1.021250e+08  \n",
       "max    1.307800e+09  1.307800e+09     5.170000e+09  "
      ]
     },
     "execution_count": 314,
     "metadata": {},
     "output_type": "execute_result"
    }
   ],
   "source": [
    "sample_json_df.describe()"
   ]
  },
  {
   "cell_type": "code",
   "execution_count": 322,
   "metadata": {},
   "outputs": [
    {
     "data": {
      "text/plain": [
       "countryname                      countrycode\n",
       "People's Republic of China       CN             19\n",
       "Republic of Indonesia            ID             16\n",
       "Republic of India                IN             15\n",
       "Socialist Republic of Vietnam    VN             14\n",
       "Republic of Yemen                RY             13\n",
       "People's Republic of Bangladesh  BD             12\n",
       "Africa                           3A             11\n",
       "Nepal                            NP             11\n",
       "Republic of Mozambique           MZ              9\n",
       "Islamic Republic of Pakistan     PK              9\n",
       "Name: project_name, dtype: int64"
      ]
     },
     "execution_count": 322,
     "metadata": {},
     "output_type": "execute_result"
    }
   ],
   "source": [
    "#Find the 10 countries with most projects\n",
    "sample_json_df[sample_json_df['projectstatusdisplay']=='Active'].groupby(['countryname','countrycode'])['project_name'].count().sort_values(ascending=False).head(10)\n"
   ]
  },
  {
   "cell_type": "code",
   "execution_count": 432,
   "metadata": {},
   "outputs": [
    {
     "data": {
      "text/html": [
       "<div>\n",
       "<style>\n",
       "    .dataframe thead tr:only-child th {\n",
       "        text-align: right;\n",
       "    }\n",
       "\n",
       "    .dataframe thead th {\n",
       "        text-align: left;\n",
       "    }\n",
       "\n",
       "    .dataframe tbody tr th {\n",
       "        vertical-align: top;\n",
       "    }\n",
       "</style>\n",
       "<table border=\"1\" class=\"dataframe\">\n",
       "  <thead>\n",
       "    <tr style=\"text-align: right;\">\n",
       "      <th></th>\n",
       "      <th>Project Themes</th>\n",
       "    </tr>\n",
       "    <tr>\n",
       "      <th>name</th>\n",
       "      <th></th>\n",
       "    </tr>\n",
       "  </thead>\n",
       "  <tbody>\n",
       "    <tr>\n",
       "      <th>Environment and natural resources management</th>\n",
       "      <td>223</td>\n",
       "    </tr>\n",
       "    <tr>\n",
       "      <th>Rural development</th>\n",
       "      <td>202</td>\n",
       "    </tr>\n",
       "    <tr>\n",
       "      <th>Human development</th>\n",
       "      <td>197</td>\n",
       "    </tr>\n",
       "    <tr>\n",
       "      <th>Public sector governance</th>\n",
       "      <td>184</td>\n",
       "    </tr>\n",
       "    <tr>\n",
       "      <th>Social protection and risk management</th>\n",
       "      <td>158</td>\n",
       "    </tr>\n",
       "    <tr>\n",
       "      <th>Financial and private sector development</th>\n",
       "      <td>130</td>\n",
       "    </tr>\n",
       "    <tr>\n",
       "      <th></th>\n",
       "      <td>122</td>\n",
       "    </tr>\n",
       "    <tr>\n",
       "      <th>Social dev/gender/inclusion</th>\n",
       "      <td>119</td>\n",
       "    </tr>\n",
       "    <tr>\n",
       "      <th>Trade and integration</th>\n",
       "      <td>72</td>\n",
       "    </tr>\n",
       "    <tr>\n",
       "      <th>Urban development</th>\n",
       "      <td>47</td>\n",
       "    </tr>\n",
       "  </tbody>\n",
       "</table>\n",
       "</div>"
      ],
      "text/plain": [
       "                                              Project Themes\n",
       "name                                                        \n",
       "Environment and natural resources management             223\n",
       "Rural development                                        202\n",
       "Human development                                        197\n",
       "Public sector governance                                 184\n",
       "Social protection and risk management                    158\n",
       "Financial and private sector development                 130\n",
       "                                                         122\n",
       "Social dev/gender/inclusion                              119\n",
       "Trade and integration                                     72\n",
       "Urban development                                         47"
      ]
     },
     "execution_count": 432,
     "metadata": {},
     "output_type": "execute_result"
    }
   ],
   "source": [
    "#Find the top 10 major project themes (using column 'mjtheme_namecode')\n",
    "flat_list = [item for sublist in sample_json_df['mjtheme_namecode'] for item in sublist]\n",
    "\n",
    "project_theme_df=json_normalize(flat_list)\n",
    "#all_themes_df = project_theme_df['name'].value_counts().sort_values(ascending=False).head(10) #included missing values\n",
    "all_themes_df = project_theme_df.groupby('name').count().sort_values('code',ascending=False).head(10)\n",
    "all_themes_df.reset_index(drop=True)\n",
    "all_themes_df.columns = ['Project Themes']\n",
    "\n",
    "all_themes_df\n",
    "\n"
   ]
  },
  {
   "cell_type": "code",
   "execution_count": 469,
   "metadata": {},
   "outputs": [
    {
     "data": {
      "text/html": [
       "<div>\n",
       "<style>\n",
       "    .dataframe thead tr:only-child th {\n",
       "        text-align: right;\n",
       "    }\n",
       "\n",
       "    .dataframe thead th {\n",
       "        text-align: left;\n",
       "    }\n",
       "\n",
       "    .dataframe tbody tr th {\n",
       "        vertical-align: top;\n",
       "    }\n",
       "</style>\n",
       "<table border=\"1\" class=\"dataframe\">\n",
       "  <thead>\n",
       "    <tr style=\"text-align: right;\">\n",
       "      <th></th>\n",
       "      <th>code</th>\n",
       "      <th>name_old</th>\n",
       "      <th>name_new</th>\n",
       "    </tr>\n",
       "  </thead>\n",
       "  <tbody>\n",
       "  </tbody>\n",
       "</table>\n",
       "</div>"
      ],
      "text/plain": [
       "Empty DataFrame\n",
       "Columns: [code, name_old, name_new]\n",
       "Index: []"
      ]
     },
     "execution_count": 469,
     "metadata": {},
     "output_type": "execute_result"
    }
   ],
   "source": [
    "#3. In 2. above you will notice that some entries have only the code and the name is missing. Create a dataframe with the missing names filled in.\n",
    "\n",
    "import numpy as np\n",
    "\n",
    "#Remove Duplicates from dictionary to create a lookup table\n",
    "code_name_lookup_df = project_theme_df.drop_duplicates(['code'])\n",
    "code_name_lookup_df\n",
    "\n",
    "#Fill all the missing values with \"MISSING THEME\" (practice steps, but not necessary for the problem)\n",
    "missing_themes_df = project_theme_df[project_theme_df['name']==''].replace(r'', np.nan, regex=True).fillna(\"MISSING THEME\") #.count()\n",
    "missing_themes_df\n",
    "\n",
    "missing_themes_df = missing_themes_df.merge(code_name_lookup_df, on='code')\n",
    "missing_themes_df[['code','name_y']].sort_values('code',ascending='True').drop_duplicates(['code'])\n",
    "\n",
    "filled_themes_df = pd.merge(project_theme_df,code_name_lookup_df, on='code',how='inner',suffixes=['_old','_new'])\n",
    "\n",
    "#Check if there are any \"MISSING THEMES\" in the new dataframe with all missing values filled in\n",
    "filled_themes_df[(filled_themes_df.name_new == \"MISSING THEME\")].sort_index(ascending='True')\n"
   ]
  },
  {
   "cell_type": "code",
   "execution_count": null,
   "metadata": {
    "collapsed": true
   },
   "outputs": [],
   "source": []
  },
  {
   "cell_type": "code",
   "execution_count": null,
   "metadata": {
    "collapsed": true
   },
   "outputs": [],
   "source": []
  },
  {
   "cell_type": "code",
   "execution_count": null,
   "metadata": {
    "collapsed": true
   },
   "outputs": [],
   "source": []
  }
 ],
 "metadata": {
  "kernelspec": {
   "display_name": "Python 3",
   "language": "python",
   "name": "python3"
  },
  "language_info": {
   "codemirror_mode": {
    "name": "ipython",
    "version": 3
   },
   "file_extension": ".py",
   "mimetype": "text/x-python",
   "name": "python",
   "nbconvert_exporter": "python",
   "pygments_lexer": "ipython3",
   "version": "3.6.3"
  }
 },
 "nbformat": 4,
 "nbformat_minor": 1
}
